{
  "nbformat": 4,
  "nbformat_minor": 0,
  "metadata": {
    "colab": {
      "provenance": [],
      "toc_visible": true,
      "authorship_tag": "ABX9TyNsb7zitpLGJS8l8neG4sVw",
      "include_colab_link": true
    },
    "kernelspec": {
      "name": "python3",
      "display_name": "Python 3"
    },
    "language_info": {
      "name": "python"
    }
  },
  "cells": [
    {
      "cell_type": "markdown",
      "metadata": {
        "id": "view-in-github",
        "colab_type": "text"
      },
      "source": [
        "<a href=\"https://colab.research.google.com/github/xincc1013/0508/blob/main/Untitled0.ipynb\" target=\"_parent\"><img src=\"https://colab.research.google.com/assets/colab-badge.svg\" alt=\"Open In Colab\"/></a>"
      ]
    },
    {
      "cell_type": "code",
      "execution_count": null,
      "metadata": {
        "colab": {
          "base_uri": "https://localhost:8080/"
        },
        "id": "K_csSKzvXhPm",
        "outputId": "d904d3fa-984d-4ce1-9f5c-bb4acdcc3f82"
      },
      "outputs": [
        {
          "output_type": "stream",
          "name": "stdout",
          "text": [
            "請問在My School President中，樂團的名稱是【A1】hot wave 【B2】nongLION【C3】chinzhilla 【D4】tinngunC3\n",
            "看鵝子囉\n"
          ]
        }
      ],
      "source": [
        "rain = input (\"請問在My School President中，樂團的名稱是【A1】hot wave 【B2】nongLION【C3】chinzhilla 【D4】tinngun\")\n",
        "if(rain==\"C3\"):\n",
        "  print(\"看鵝子囉\")\n",
        "else:\n",
        "  print(\"沒那命\")"
      ]
    }
  ]
}